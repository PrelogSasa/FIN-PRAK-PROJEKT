{
 "cells": [
  {
   "cell_type": "code",
   "execution_count": 10,
   "metadata": {
    "collapsed": false
   },
   "outputs": [
   ],
   "source": [
    "import numpy as np\n",
    "import random"
   ]
  },
  {
   "cell_type": "code",
   "execution_count": 11,
   "metadata": {
    "collapsed": false
   },
   "outputs": [
   ],
   "source": [
    "def ABCindeks(drevo): #izracun ABC indeksa za neko drevo, len(drevo[u]) ti da dolzino seznama sosedov za vozlisce u torej je to stopnja vozlisca u\n",
    "    produkt = 1\n",
    "    for u in drevo:\n",
    "        for v in drevo[u]:\n",
    "            produkt = produkt * (len(drevo[u]) + len(drevo[v]) - 2) / (len(drevo[u]) * len(drevo[v]))\n",
    "    return sqrt(produkt)\n",
    "\n",
    "#ABCindeks(G)"
   ]
  },
  {
   "cell_type": "code",
   "execution_count": 12,
   "metadata": {
    "collapsed": false
   },
   "outputs": [
   ],
   "source": [
    "def minABCindeks(n): #izracun najmanjsega ABC indeksa za vsa drevesa z n vozlisci, vrne tudi seznam dreves, ki imajo ta najmanjsi indeks\n",
    "    min_indeks = None\n",
    "    for dr in graphs.trees(n):\n",
    "        if min_indeks == None:\n",
    "            min_indeks = ABCindeks(dr)\n",
    "            drevesa_z_min_ind = [dr]\n",
    "        else:\n",
    "            if ABCindeks(dr) < min_indeks:\n",
    "                min_indeks = ABCindeks(dr)\n",
    "                drevesa_z_min_ind = [dr]\n",
    "            elif ABCindeks(dr) == min_indeks:\n",
    "                drevesa_z_min_ind.append(dr)\n",
    "            else:\n",
    "                continue\n",
    "    return min_indeks , drevesa_z_min_ind\n",
    "\n",
    "#minABCindeks(9)"
   ]
  },
  {
   "cell_type": "code",
   "execution_count": 13,
   "metadata": {
    "collapsed": false
   },
   "outputs": [
    {
     "data": {
      "text/plain": [
       "[(1, [Graph on 1 vertex]),\n",
       " (0, [Graph on 2 vertices]),\n",
       " (1/4, [Graph on 3 vertices]),\n",
       " (1/8, [Graph on 4 vertices]),\n",
       " (1/16, [Graph on 5 vertices]),\n",
       " (1/32, [Graph on 6 vertices]),\n",
       " (1/64, [Graph on 7 vertices, Graph on 7 vertices]),\n",
       " (1/128, [Graph on 8 vertices, Graph on 8 vertices]),\n",
       " (1/256,\n",
       "  [Graph on 9 vertices,\n",
       "   Graph on 9 vertices,\n",
       "   Graph on 9 vertices,\n",
       "   Graph on 9 vertices]),\n",
       " (1/576, [Graph on 10 vertices]),\n",
       " (1/1152, [Graph on 11 vertices]),\n",
       " (5/12288, [Graph on 12 vertices]),\n",
       " (1/5184, [Graph on 13 vertices]),\n",
       " (3/32768, [Graph on 14 vertices]),\n",
       " (25/589824, [Graph on 15 vertices]),\n",
       " (25/1179648, [Graph on 16 vertices, Graph on 16 vertices]),\n",
       " (5/524288, [Graph on 17 vertices]),\n",
       " (125/28311552, [Graph on 18 vertices]),\n",
       " (7/3276800, [Graph on 19 vertices])]"
      ]
     },
     "execution_count": 13,
     "metadata": {
     },
     "output_type": "execute_result"
    }
   ],
   "source": [
    "rezultati = []\n",
    "for n in range(19) : #range naredi seznam od 0 do 18, midva hoceva grafe z vozlisci od 1 do 19 zato je spodaj n+1\n",
    "        rez = [vrednost, seznam_grafov] = minABCindeks(n+1)\n",
    "        rezultati.append(rez)\n",
    "rezultati #rabu je okol 10 min (za 19)"
   ]
  },
  {
   "cell_type": "code",
   "execution_count": 14,
   "metadata": {
    "collapsed": false
   },
   "outputs": [
   ],
   "source": [
    "def SA_algoritem(n, T=100, fun=ABCindeks): #algoritem za iskanje drevesa z najmanjšim ABC indeksom za drevesa z več vozlišči\n",
    "    drevo =graphs.RandomTree(n)\n",
    "    scale = np.sqrt(T)\n",
    "    trenutna_vrednost = fun(drevo)\n",
    "    history = [drevo]\n",
    "    for i in range(10000):\n",
    "        listi_drevesa = []\n",
    "        stopnje_vozlisc = drevo.degree()\n",
    "        for i in range(n):\n",
    "            if stopnje_vozlisc[i] == 1:\n",
    "                listi_drevesa.append(i)               ### sedaj imamo vse liste drevesa\n",
    "        stevilo_listov = len(listi_drevesa)\n",
    "        vozlisca_ki_niso_listi = [x for x in drevo.vertices() if x not in listi_drevesa]\n",
    "        nakljucni_list = listi_drevesa[random.randint(0,stevilo_listov - 1)] ### izberemo nakljucni list\n",
    "        povezava = (nakljucni_list, drevo[nakljucni_list][0]) ### list bo imel le enega soseda\n",
    "        popravek = copy(drevo)   ### ustvarimo kopijo drevesa na katerem bomo izvedli zamenjavo\n",
    "        popravek.delete_edge(povezava)\n",
    "        izbrano_vozlisce = vozlisca_ki_niso_listi[random.randint(0, len(vozlisca_ki_niso_listi) -1)]\n",
    "        popravek.add_edge(nakljucni_list, izbrano_vozlisce) #### dodamo povezavo na kopiji\n",
    "        vrednost_popravka = fun(popravek)\n",
    "        if (trenutna_vrednost < vrednost_popravka) or (np.exp(-(trenutna_vrednost - vrednost_popravka)/T)): ### popravek je zavrzen ce je bila vrednost popravka vecja od trenutne vrednosti\n",
    "            popravek = drevo\n",
    "        drevo = popravek\n",
    "        trenutna_vrednost = fun(drevo)\n",
    "        T = 0.9*T\n",
    "        history.append(drevo)\n",
    "    return trenutna_vrednost, fun(history[0]), drevo"
   ]
  },
  {
   "cell_type": "code",
   "execution_count": 15,
   "metadata": {
    "collapsed": false
   },
   "outputs": [
    {
     "data": {
      "text/plain": [
       "[(25/272097792, Graph on 25 vertices),\n",
       " (32768/242137805625, Graph on 26 vertices),\n",
       " (2/129140163, Graph on 27 vertices),\n",
       " (1/76527504, Graph on 28 vertices),\n",
       " (100/10460353203, Graph on 29 vertices),\n",
       " (512/94143178827, Graph on 30 vertices),\n",
       " (125/130459631616, Graph on 31 vertices),\n",
       " (625/669462604992, Graph on 32 vertices),\n",
       " (1/2902376448, Graph on 33 vertices),\n",
       " (5/33059881728, Graph on 34 vertices),\n",
       " (3200/22876792454961, Graph on 35 vertices)]"
      ]
     },
     "execution_count": 15,
     "metadata": {
     },
     "output_type": "execute_result"
    }
   ],
   "source": [
    "rezultati2 = []\n",
    "for n in range(25,36):\n",
    "        [vrednost, prvotna_vrednost, drevo] = SA_algoritem(n)\n",
    "        rezultati2.append((vrednost, drevo))\n",
    "rezultati2 #rabu okol 4 minute da je zracunu"
   ]
  },
  {
   "cell_type": "code",
   "execution_count": 17,
   "metadata": {
    "collapsed": false,
    "scrolled": true
   },
   "outputs": [
    {
     "name": "stdout",
     "output_type": "stream",
     "text": [
      "[[0], [1], [2], [3], [4], [5], [6, 4], [7, 5], [8, 6, 6, 4], [5], [6], [5], [6], [5], [6], [7, 6], [6], [6], [6]]\n",
      "[[12], [10], [13], [15], [14], [13], [15], [12], [17], [11], [15]]\n"
     ]
    }
   ],
   "source": [
    "# recimo da naju zanimajo premeri teh grafov, uporabiva lahko metodo diameter za objekte graphs\n",
    "premeri = []\n",
    "for (vrednost, seznam_grafov) in rezultati:\n",
    "    pr = []\n",
    "    for graf in seznam_grafov:\n",
    "        pr.append(graf.diameter())\n",
    "    premeri.append(pr)\n",
    "print(premeri)\n",
    "\n",
    "premeri2 = []\n",
    "for (vrednost, graf) in rezultati2:\n",
    "    premeri2.append([graf.diameter()])\n",
    "print(premeri2)"
   ]
  },
  {
   "cell_type": "code",
   "execution_count": 18,
   "metadata": {
    "collapsed": false
   },
   "outputs": [
    {
     "name": "stdout",
     "output_type": "stream",
     "text": [
      "[[0], [0], [3], [4], [5], [6], [7, 3], [8, 4], [9, 5, 4, 3], [3], [4], [3], [3], [3], [3], [4, 4], [3], [3], [3]]\n",
      "[[4], [3], [4], [10], [5], [4], [6], [4], [5], [3], [4]]\n"
     ]
    }
   ],
   "source": [
    "#ce naju zanimajo dolzine najdaljsih poti v grafih \n",
    "def najdaljsa_pot(graf):\n",
    "    najdaljsa = 0\n",
    "    for u in graf:            #gremo cez vsa vozlisca v grafu\n",
    "        if len(graf[u]) == 2:  #ce imajo stopnjo = 2 nadaljujemo\n",
    "            soseda = graf[u]\n",
    "            s = u #dolocimo sedanje vozlisce\n",
    "            dolzina = 3        #sedaj imamo pot dolzine vsaj 3 - sedanje vozlišče in njegova soseda\n",
    "            if len(graf[soseda[0]]) != 2: #preverimo ali ima vsaj eno od sosednjih vozlisc stopnjo neenako 2 (da ne zacnemo steti sredi poti)\n",
    "                p = soseda[0] #dolocimo prejsnje vozlisce (tisto s stopnjo neenako 2)\n",
    "                n = soseda[1] # in naslednje vozlisce\n",
    "            elif len(graf[soseda[1]]) != 2:\n",
    "                p = soseda[1]\n",
    "                n = soseda[0]\n",
    "            else: #ce imata obe sosednji vozlisci stopnjo 2 smo na sredi poti in tega primera ne preverjamo\n",
    "                continue\n",
    "            while len(graf[n]) == 2: #z while zanko se bomo sedaj premikali po poti dokler ne naletimo na vozlisce ki nima stopnje = 2\n",
    "                dolzina += 1 #za vsako naslednje vozlisce povecamo dolzino\n",
    "                p = s #premanemo vozlisca: novo prejsnje je staro sedanje,\n",
    "                s = n #novo sedanje je staro naslednje\n",
    "                if graf[s][0] != p: #novo naslednje je tisto od sosedov novega sedanjega ki ni enako novemu prejsnjemu\n",
    "                    n = graf[s][0]\n",
    "                else:\n",
    "                    n = graf[s][1]\n",
    "        else:\n",
    "            continue\n",
    "        if dolzina > najdaljsa: #ce smo nasli novo najdaljso pot jo shranimo\n",
    "            najdaljsa = dolzina\n",
    "    return najdaljsa\n",
    "\n",
    "najdaljse_poti = []\n",
    "for (vrednost, seznam_grafov) in rezultati:\n",
    "    dol = []\n",
    "    for graf in seznam_grafov:\n",
    "        dol.append(najdaljsa_pot(graf))\n",
    "    najdaljse_poti.append(dol)\n",
    "\n",
    "print(najdaljse_poti)\n",
    "\n",
    "najdaljse_poti2 = []\n",
    "for (vrednost, graf) in rezultati2:\n",
    "    najdaljse_poti2.append([najdaljsa_pot(graf)])\n",
    "\n",
    "print(najdaljse_poti2)"
   ]
  },
  {
   "cell_type": "code",
   "execution_count": 19,
   "metadata": {
    "collapsed": false
   },
   "outputs": [
    {
     "data": {
      "text/plain": [
       "[(1, [0], 'sum=0', 'abc_indeks=1'),\n",
       " (2, [0, 0], 'sum=0', 'abc_indeks=0'),\n",
       " (3, [0, 0, 0], 'sum=0', 'abc_indeks=1/4'),\n",
       " (4, [0, 0, 0, 0], 'sum=0', 'abc_indeks=1/8'),\n",
       " (5, [0, 0, 0, 0, 0], 'sum=0', 'abc_indeks=1/16'),\n",
       " (6, [0, 0, 0, 0, 0, 0], 'sum=0', 'abc_indeks=1/32'),\n",
       " (7, [0, 0, 0, 0, 0, 0, 0], 'sum=0', 'abc_indeks=1/64'),\n",
       " (7, [1, 0, 0, 0, 0, 0, 0], 'sum=1', 'abc_indeks=1/64'),\n",
       " (8, [0, 0, 0, 0, 0, 0, 0, 0], 'sum=0', 'abc_indeks=1/128'),\n",
       " (8, [1, 0, 0, 0, 0, 0, 0, 0], 'sum=1', 'abc_indeks=1/128'),\n",
       " (9, [0, 0, 0, 0, 0, 0, 0, 0, 0], 'sum=0', 'abc_indeks=1/256'),\n",
       " (9, [0, 1, 0, 0, 0, 0, 0, 0, 0], 'sum=1', 'abc_indeks=1/256'),\n",
       " (9, [1, 0, 0, 0, 0, 0, 0, 0, 0], 'sum=1', 'abc_indeks=1/256'),\n",
       " (9, [1, 0, 0, 0, 0, 0, 0, 0, 0], 'sum=1', 'abc_indeks=1/256'),\n",
       " (10, [1, 1, 0, 0, 0, 0, 0, 0, 0, 0], 'sum=2', 'abc_indeks=1/576'),\n",
       " (11, [1, 1, 0, 0, 0, 0, 0, 0, 0, 0, 0], 'sum=2', 'abc_indeks=1/1152'),\n",
       " (12, [1, 1, 0, 0, 0, 0, 0, 0, 0, 0, 0, 0], 'sum=2', 'abc_indeks=5/12288'),\n",
       " (13, [1, 1, 0, 0, 0, 0, 1, 0, 0, 0, 0, 0, 0], 'sum=3', 'abc_indeks=1/5184'),\n",
       " (14,\n",
       "  [1, 1, 0, 0, 0, 0, 0, 0, 0, 0, 0, 0, 0, 0],\n",
       "  'sum=2',\n",
       "  'abc_indeks=3/32768'),\n",
       " (15,\n",
       "  [1, 1, 0, 0, 0, 0, 1, 0, 0, 0, 0, 0, 0, 0, 0],\n",
       "  'sum=3',\n",
       "  'abc_indeks=25/589824'),\n",
       " (16,\n",
       "  [1, 1, 0, 0, 0, 0, 0, 1, 0, 0, 0, 0, 0, 0, 0, 0],\n",
       "  'sum=3',\n",
       "  'abc_indeks=25/1179648'),\n",
       " (16,\n",
       "  [1, 1, 0, 0, 0, 0, 1, 0, 0, 0, 0, 0, 0, 0, 0, 0],\n",
       "  'sum=3',\n",
       "  'abc_indeks=25/1179648'),\n",
       " (17,\n",
       "  [1, 1, 0, 0, 0, 0, 0, 0, 1, 0, 0, 0, 0, 0, 0, 0, 0],\n",
       "  'sum=3',\n",
       "  'abc_indeks=5/524288'),\n",
       " (18,\n",
       "  [1, 1, 0, 0, 0, 0, 1, 0, 0, 0, 0, 1, 0, 0, 0, 0, 0, 0],\n",
       "  'sum=4',\n",
       "  'abc_indeks=125/28311552'),\n",
       " (19,\n",
       "  [1, 1, 0, 0, 0, 0, 0, 0, 1, 0, 0, 0, 0, 0, 0, 0, 0, 0, 0],\n",
       "  'sum=3',\n",
       "  'abc_indeks=7/3276800')]"
      ]
     },
     "execution_count": 19,
     "metadata": {
     },
     "output_type": "execute_result"
    }
   ],
   "source": [
    "### vozilisca s stopnjo >=3\n",
    "povezave = []\n",
    "for (vrednost, seznam_grafov) in rezultati:\n",
    "    for graf in seznam_grafov:\n",
    "        indeksi = []\n",
    "        for u in graf:\n",
    "            if len(graf[u]) >=3:\n",
    "                indeksi.append(1)\n",
    "            else:\n",
    "                indeksi.append(0)\n",
    "        povezave.append((graf.order(),indeksi, 'sum={}'.format(sum(indeksi)),'abc_indeks={}'.format(vrednost)))\n",
    "        indeksi = []\n",
    "povezave"
   ]
  },
  {
   "cell_type": "code",
   "execution_count": 20,
   "metadata": {
    "collapsed": false
   },
   "outputs": [
    {
     "data": {
      "text/plain": [
       "[(1, 0),\n",
       " (2, 2),\n",
       " (3, 2),\n",
       " (4, 2),\n",
       " (5, 2),\n",
       " (6, 2),\n",
       " (7, 2),\n",
       " (7, 3),\n",
       " (8, 2),\n",
       " (8, 3),\n",
       " (9, 2),\n",
       " (9, 3),\n",
       " (9, 3),\n",
       " (9, 4),\n",
       " (10, 4),\n",
       " (11, 4),\n",
       " (12, 5),\n",
       " (13, 5),\n",
       " (14, 6),\n",
       " (15, 6),\n",
       " (16, 6),\n",
       " (16, 6),\n",
       " (17, 7),\n",
       " (18, 7),\n",
       " (19, 8)]"
      ]
     },
     "execution_count": 20,
     "metadata": {
     },
     "output_type": "execute_result"
    }
   ],
   "source": [
    "### koliko je vozlisc s samo eno povezavo \n",
    "stevilo_listov = []\n",
    "for (vrednost, seznam_grafov) in rezultati:\n",
    "    for graf in seznam_grafov:\n",
    "        listi = 0\n",
    "        for u in graf:\n",
    "            if len(graf[u]) ==1 :\n",
    "                listi += 1\n",
    "        stevilo_listov.append((graf.order(),listi))\n",
    "        listi = 0\n",
    "stevilo_listov"
   ]
  },
  {
   "cell_type": "code",
   "execution_count": 22,
   "metadata": {
    "collapsed": false
   },
   "outputs": [
    {
     "data": {
      "text/plain": [
       "[(1, [0]),\n",
       " (2, [1, 1]),\n",
       " (3, [2, 1, 1]),\n",
       " (4, [2, 2, 1, 1]),\n",
       " (5, [2, 2, 1, 2, 1]),\n",
       " (6, [2, 2, 2, 1, 2, 1]),\n",
       " (7, [2, 2, 2, 1, 2, 2, 1]),\n",
       " (7, [3, 2, 1, 2, 1, 2, 1]),\n",
       " (8, [2, 2, 2, 2, 1, 2, 2, 1]),\n",
       " (8, [3, 2, 2, 1, 2, 1, 2, 1]),\n",
       " (9, [2, 2, 2, 2, 1, 2, 2, 2, 1]),\n",
       " (9, [2, 3, 2, 1, 2, 1, 2, 2, 1]),\n",
       " (9, [3, 2, 2, 1, 2, 2, 1, 2, 1]),\n",
       " (9, [4, 2, 1, 2, 1, 2, 1, 2, 1]),\n",
       " (10, [3, 3, 2, 1, 2, 1, 2, 1, 2, 1]),\n",
       " (11, [3, 3, 2, 1, 2, 1, 2, 2, 1, 2, 1]),\n",
       " (12, [4, 3, 2, 1, 2, 1, 2, 1, 2, 1, 2, 1]),\n",
       " (13, [3, 3, 2, 1, 2, 1, 3, 2, 1, 2, 1, 2, 1]),\n",
       " (14, [4, 4, 2, 1, 2, 1, 2, 1, 2, 1, 2, 1, 2, 1]),\n",
       " (15, [4, 3, 2, 1, 2, 1, 3, 2, 1, 2, 1, 2, 1, 2, 1]),\n",
       " (16, [4, 3, 2, 2, 1, 2, 1, 3, 2, 1, 2, 1, 2, 1, 2, 1]),\n",
       " (16, [4, 3, 2, 1, 2, 1, 3, 2, 1, 2, 1, 2, 2, 1, 2, 1]),\n",
       " (17, [4, 4, 2, 1, 2, 1, 2, 1, 3, 2, 1, 2, 1, 2, 1, 2, 1]),\n",
       " (18, [4, 3, 2, 1, 2, 1, 3, 2, 1, 2, 1, 3, 2, 1, 2, 1, 2, 1]),\n",
       " (19, [5, 4, 2, 1, 2, 1, 2, 1, 3, 2, 1, 2, 1, 2, 1, 2, 1, 2, 1])]"
      ]
     },
     "execution_count": 22,
     "metadata": {
     },
     "output_type": "execute_result"
    }
   ],
   "source": [
    "### stopnja vsakega vozlišča \n",
    "povezave_indeksi = []\n",
    "for (vrednost, seznam_grafov) in rezultati:\n",
    "    for graf in seznam_grafov:\n",
    "        indeksi = []\n",
    "        for u in graf:\n",
    "            indeksi.append(len(graf[u]))\n",
    "        povezave_indeksi.append((graf.order(),indeksi))\n",
    "        indeksi = []\n",
    "povezave_indeksi"
   ]
  },
  {
   "cell_type": "code",
   "execution_count": 0,
   "metadata": {
    "collapsed": false
   },
   "outputs": [
   ],
   "source": [
   ]
  }
 ],
 "metadata": {
  "kernelspec": {
   "display_name": "SageMath (stable)",
   "language": "sagemath",
   "metadata": {
    "cocalc": {
     "description": "Open-source mathematical software system",
     "priority": 10,
     "url": "https://www.sagemath.org/"
    }
   },
   "name": "sagemath"
  },
  "language_info": {
   "codemirror_mode": {
    "name": "ipython",
    "version": 2
   },
   "file_extension": ".py",
   "mimetype": "text/x-python",
   "name": "python",
   "nbconvert_exporter": "python",
   "pygments_lexer": "ipython2",
   "version": "2.7.15"
  }
 },
 "nbformat": 4,
 "nbformat_minor": 0
}