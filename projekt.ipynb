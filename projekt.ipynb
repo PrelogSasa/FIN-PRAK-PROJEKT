{
 "cells": [
  {
   "cell_type": "code",
   "execution_count": 8,
   "metadata": {
    "collapsed": false
   },
   "outputs": [
   ],
   "source": [
    "import numpy as np\n",
    "import random"
   ]
  },
  {
   "cell_type": "code",
   "execution_count": 71,
   "metadata": {
    "collapsed": false
   },
   "outputs": [
   ],
   "source": [
    "def ABCindeks(drevo): #izracun ABC indeksa za neko drevo, len(drevo[u]) ti da dolzino seznama sosedov za vozlisce u torej je to stopnja vozlisca u\n",
    "    produkt = 1\n",
    "    for u in drevo:\n",
    "        for v in drevo[u]:\n",
    "            produkt = produkt * (len(drevo[u]) + len(drevo[v]) - 2) / (len(drevo[u]) * len(drevo[v]))\n",
    "    return sqrt(produkt)\n",
    "\n",
    "#ABCindeks(G)"
   ]
  },
  {
   "cell_type": "code",
   "execution_count": 2,
   "metadata": {
    "collapsed": false
   },
   "outputs": [
   ],
   "source": [
    "def minABCindeks(n): #izracun najmanjsega ABC indeksa za vsa drevesa z n vozlisci, vrne tudi seznam dreves, ki imajo ta najmanjsi indeks\n",
    "    min_indeks = None\n",
    "    for dr in graphs.trees(n):\n",
    "        if min_indeks == None:\n",
    "            min_indeks = ABCindeks(dr)\n",
    "            drevesa_z_min_ind = [dr]\n",
    "        else:\n",
    "            if ABCindeks(dr) < min_indeks:\n",
    "                min_indeks = ABCindeks(dr)\n",
    "                drevesa_z_min_ind = [dr]\n",
    "            elif ABCindeks(dr) == min_indeks:\n",
    "                drevesa_z_min_ind.append(dr)\n",
    "            else:\n",
    "                continue\n",
    "    return min_indeks , drevesa_z_min_ind\n",
    "\n",
    "#minABCindeks(9)"
   ]
  },
  {
   "cell_type": "code",
   "execution_count": 4,
   "metadata": {
    "collapsed": false
   },
   "outputs": [
    {
     "data": {
      "text/plain": [
       "[(1, [Graph on 1 vertex]),\n",
       " (0, [Graph on 2 vertices]),\n",
       " (1/4, [Graph on 3 vertices]),\n",
       " (1/8, [Graph on 4 vertices]),\n",
       " (1/16, [Graph on 5 vertices]),\n",
       " (1/32, [Graph on 6 vertices]),\n",
       " (1/64, [Graph on 7 vertices, Graph on 7 vertices]),\n",
       " (1/128, [Graph on 8 vertices, Graph on 8 vertices]),\n",
       " (1/256,\n",
       "  [Graph on 9 vertices,\n",
       "   Graph on 9 vertices,\n",
       "   Graph on 9 vertices,\n",
       "   Graph on 9 vertices]),\n",
       " (1/576, [Graph on 10 vertices]),\n",
       " (1/1152, [Graph on 11 vertices]),\n",
       " (5/12288, [Graph on 12 vertices]),\n",
       " (1/5184, [Graph on 13 vertices]),\n",
       " (3/32768, [Graph on 14 vertices]),\n",
       " (25/589824, [Graph on 15 vertices]),\n",
       " (25/1179648, [Graph on 16 vertices, Graph on 16 vertices]),\n",
       " (5/524288, [Graph on 17 vertices])]"
      ]
     },
     "execution_count": 4,
     "metadata": {
     },
     "output_type": "execute_result"
    }
   ],
   "source": [
    "rezultati = []\n",
    "for n in range(17) : #range naredi seznam od 0 do 18, midva hoceva grafe z vozlisci od 1 do 19 zato je spodaj n+1\n",
    "        rez = [vrednost, seznam_grafov] = minABCindeks(n+1)\n",
    "        rezultati.append(rez)\n",
    "rezultati #rabu je okol 10 min (za 19)"
   ]
  },
  {
   "cell_type": "code",
   "execution_count": 172,
   "metadata": {
    "collapsed": false
   },
   "outputs": [
    {
     "data": {
      "text/plain": [
       "1.51704"
      ]
     },
     "execution_count": 172,
     "metadata": {
     },
     "output_type": "execute_result"
    }
   ],
   "source": [
    "round((1/31104)/(25/1179648),5)"
   ]
  },
  {
   "cell_type": "code",
   "execution_count": 9,
   "metadata": {
    "collapsed": false
   },
   "outputs": [
    {
     "data": {
      "text/plain": [
       "[[0],\n",
       " [1],\n",
       " [2],\n",
       " [3],\n",
       " [4],\n",
       " [5],\n",
       " [6, 4],\n",
       " [7, 5],\n",
       " [8, 6, 6, 4],\n",
       " [5],\n",
       " [6],\n",
       " [5],\n",
       " [6],\n",
       " [5],\n",
       " [6],\n",
       " [7, 6],\n",
       " [6],\n",
       " [6],\n",
       " [6]]"
      ]
     },
     "execution_count": 9,
     "metadata": {
     },
     "output_type": "execute_result"
    }
   ],
   "source": [
    "# recimo da naju zanimajo premeri teh grafov, uporabiva lahko metodo diameter za objekte graphs\n",
    "premeri = []\n",
    "for (vrednost, seznam_grafov) in rezultati:\n",
    "    pr = []\n",
    "    for graf in seznam_grafov:\n",
    "        pr.append(graf.diameter())\n",
    "    premeri.append(pr)\n",
    "premeri"
   ]
  },
  {
   "cell_type": "code",
   "execution_count": 11,
   "metadata": {
    "collapsed": false
   },
   "outputs": [
    {
     "data": {
      "text/plain": [
       "[[0],\n",
       " [0],\n",
       " [3],\n",
       " [4],\n",
       " [5],\n",
       " [6],\n",
       " [7, 3],\n",
       " [8, 4],\n",
       " [9, 5, 4, 3],\n",
       " [3],\n",
       " [4],\n",
       " [3],\n",
       " [3],\n",
       " [3],\n",
       " [3],\n",
       " [4, 4],\n",
       " [3],\n",
       " [3],\n",
       " [3]]"
      ]
     },
     "execution_count": 11,
     "metadata": {
     },
     "output_type": "execute_result"
    }
   ],
   "source": [
    "#ce naju zanimajo dolzine najdaljsih poti v grafih \n",
    "def najdaljsa_pot(graf):\n",
    "    najdaljsa = 0\n",
    "    for u in graf:            #gremo cez vsa vozlisca v grafu\n",
    "        if len(graf[u]) == 2:  #ce imajo stopnjo = 2 nadaljujemo\n",
    "            soseda = graf[u]\n",
    "            s = u #dolocimo sedanje vozlisce\n",
    "            dolzina = 3        #sedaj imamo pot dolzine vsaj 3 - sedanje vozlišče in njegova soseda\n",
    "            if len(graf[soseda[0]]) != 2: #preverimo ali ima vsaj eno od sosednjih vozlisc stopnjo neenako 2 (da ne zacnemo steti sredi poti)\n",
    "                p = soseda[0] #dolocimo prejsnje vozlisce (tisto s stopnjo neenako 2)\n",
    "                n = soseda[1] # in naslednje vozlisce\n",
    "            elif len(graf[soseda[1]]) != 2:\n",
    "                p = soseda[1]\n",
    "                n = soseda[0]\n",
    "            else: #ce imata obe sosednji vozlisci stopnjo 2 smo na sredi poti in tega primera ne preverjamo\n",
    "                continue\n",
    "            while len(graf[n]) == 2: #z while zanko se bomo sedaj premikali po poti dokler ne naletimo na vozlisce ki nima stopnje = 2\n",
    "                dolzina += 1 #za vsako naslednje vozlisce povecamo dolzino\n",
    "                p = s #premanemo vozlisca: novo prejsnje je staro sedanje,\n",
    "                s = n #novo sedanje je staro naslednje\n",
    "                if graf[s][0] != p: #novo naslednje je tisto od sosedov novega sedanjega ki ni enako novemu prejsnjemu\n",
    "                    n = graf[s][0]\n",
    "                else:\n",
    "                    n = graf[s][1]\n",
    "        else:\n",
    "            continue\n",
    "        if dolzina > najdaljsa: #ce smo nasli novo najdaljso pot jo shranimo\n",
    "            najdaljsa = dolzina\n",
    "    return najdaljsa\n",
    "\n",
    "najdaljse_poti = []\n",
    "for (vrednost, seznam_grafov) in rezultati:\n",
    "    dol = []\n",
    "    for graf in seznam_grafov:\n",
    "        dol.append(najdaljsa_pot(graf))\n",
    "    najdaljse_poti.append(dol)\n",
    "\n",
    "najdaljse_poti"
   ]
  },
  {
   "cell_type": "code",
   "execution_count": 163,
   "metadata": {
    "collapsed": false
   },
   "outputs": [
   ],
   "source": [
    "def SA_algoritem(n, T=100, fun=ABCindeks):\n",
    "    drevo =graphs.RandomTree(n)\n",
    "    scale = np.sqrt(T)\n",
    "    trenutna_vrednost = fun(drevo)\n",
    "    history = [drevo]\n",
    "    for i in range(10000):\n",
    "        listi_drevesa = []\n",
    "        stopnje_vozlisc = drevo.degree()\n",
    "        for i in range(n):\n",
    "            if stopnje_vozlisc[i] == 1:\n",
    "                listi_drevesa.append(i)               ### sedaj imamo vse liste drevesa\n",
    "        stevilo_listov = len(listi_drevesa)\n",
    "        vozlisca_ki_niso_listi = [x for x in drevo.vertices() if x not in listi_drevesa]\n",
    "        nakljucni_list = listi_drevesa[random.randint(0,stevilo_listov - 1)] ### izberemo nakljucni list\n",
    "        povezava = (nakljucni_list, drevo[nakljucni_list][0]) ### list bo imel le enega soseda\n",
    "        popravek = copy(drevo)   ### ustvarimo kopijo drevesa na katerem bomo izvedli zamenjavo\n",
    "        popravek.delete_edge(povezava)\n",
    "        izbrano_vozlisce = vozlisca_ki_niso_listi[random.randint(0, len(vozlisca_ki_niso_listi) -1)]\n",
    "        popravek.add_edge(nakljucni_list, izbrano_vozlisce) #### dodamo povezavo na kopiji\n",
    "        vrednost_popravka = fun(popravek)\n",
    "        if (trenutna_vrednost < vrednost_popravka) or (np.exp(-(trenutna_vrednost - vrednost_popravka)/T)): ### popravek je zavrzen ce je bila vrednost popravka vecja od trenutne vrednosti\n",
    "            popravek = drevo\n",
    "        drevo = popravek\n",
    "        trenutna_vrednost = fun(drevo)\n",
    "        T = 0.9*T\n",
    "        history.append(drevo)\n",
    "    return trenutna_vrednost, fun(history[0])"
   ]
  },
  {
   "cell_type": "code",
   "execution_count": 173,
   "metadata": {
    "collapsed": false
   },
   "outputs": [
   ],
   "source": [
    "SA_algoritem(16)"
   ]
  },
  {
   "cell_type": "code",
   "execution_count": 171,
   "metadata": {
    "collapsed": false
   },
   "outputs": [
    {
     "data": {
      "text/plain": [
       "True"
      ]
     },
     "execution_count": 171,
     "metadata": {
     },
     "output_type": "execute_result"
    }
   ],
   "source": [
    "1/31104 < 1/27648"
   ]
  },
  {
   "cell_type": "code",
   "execution_count": 0,
   "metadata": {
    "collapsed": false
   },
   "outputs": [
   ],
   "source": [
   ]
  }
 ],
 "metadata": {
  "kernelspec": {
   "display_name": "SageMath (stable)",
   "language": "sagemath",
   "metadata": {
    "cocalc": {
     "description": "Open-source mathematical software system",
     "priority": 10,
     "url": "https://www.sagemath.org/"
    }
   },
   "name": "sagemath"
  },
  "language_info": {
   "codemirror_mode": {
    "name": "ipython",
    "version": 2
   },
   "file_extension": ".py",
   "mimetype": "text/x-python",
   "name": "python",
   "nbconvert_exporter": "python",
   "pygments_lexer": "ipython2",
   "version": "2.7.15"
  }
 },
 "nbformat": 4,
 "nbformat_minor": 0
}